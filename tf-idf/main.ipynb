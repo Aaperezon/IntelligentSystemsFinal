{
 "metadata": {
  "language_info": {
   "codemirror_mode": {
    "name": "ipython",
    "version": 3
   },
   "file_extension": ".py",
   "mimetype": "text/x-python",
   "name": "python",
   "nbconvert_exporter": "python",
   "pygments_lexer": "ipython3",
   "version": "3.9.4"
  },
  "orig_nbformat": 2,
  "kernelspec": {
   "name": "python394jvsc74a57bd00fee626e17d51820f426a1655e533c810ba01a2afcd54866012ad992b6372129",
   "display_name": "Python 3.9.4 64-bit"
  },
  "metadata": {
   "interpreter": {
    "hash": "0fee626e17d51820f426a1655e533c810ba01a2afcd54866012ad992b6372129"
   }
  }
 },
 "nbformat": 4,
 "nbformat_minor": 2,
 "cells": [
  {
   "cell_type": "code",
   "execution_count": 4,
   "metadata": {
    "tags": []
   },
   "outputs": [
    {
     "output_type": "error",
     "ename": "IndentationError",
     "evalue": "unindent does not match any outer indentation level (<tokenize>, line 27)",
     "traceback": [
      "\u001b[1;36m  File \u001b[1;32m\"<tokenize>\"\u001b[1;36m, line \u001b[1;32m27\u001b[0m\n\u001b[1;33m    results.append( [(numerator/denominator_accuracy) if(denominator_accuracy!=0) else float('NaN'), (numerator/denominator_recall) if(denominator_recall!=0) else float('NaN')] )\u001b[0m\n\u001b[1;37m    ^\u001b[0m\n\u001b[1;31mIndentationError\u001b[0m\u001b[1;31m:\u001b[0m unindent does not match any outer indentation level\n"
     ]
    }
   ],
   "source": [
    "from description import data_base_age,data_base_gender\n",
    "from sklearn.naive_bayes import MultinomialNB\n",
    "from sklearn.tree import DecisionTreeClassifier\n",
    "from sklearn.ensemble import RandomForestClassifier\n",
    "from sklearn.neural_network import MLPClassifier\n",
    "from sklearn.neighbors import KNeighborsClassifier\n",
    "from math import floor\n",
    "from sklearn import tree\n",
    "import matplotlib.pyplot as plt\n",
    "import pandas as pd\n",
    "\n",
    "\n",
    "def generate_header_suffix(class_to_index,type_str):\n",
    "    return [f'{class_} {type_str}' for class_ in class_to_index.keys()]\n",
    "def save_accuracys_recalls_fscores_exactitude(confusion_matrix,class_to_index,suffix_filename):\n",
    "    results = []\n",
    "    numerator_exactitude = 0\n",
    "    matrix_dimension_range = range(len(confusion_matrix))\n",
    "    for position_class in matrix_dimension_range:\n",
    "        numerator_exactitude+=(numerator := confusion_matrix[position_class][position_class])\n",
    "        denominator_accuracy = 0\n",
    "        denominator_recall = 0\n",
    "        for position_other in range(len(confusion_matrix)):\n",
    "            denominator_accuracy += confusion_matrix[position_class][position_other]\n",
    "            denominator_recall += confusion_matrix[position_other][position_class]\n",
    "        #print(denominator_accuracy)\n",
    "        results.append( [(numerator/denominator_accuracy) if(denominator_accuracy!=0) else float('NaN'), (numerator/denominator_recall) if(denominator_recall!=0) else float('NaN')] ) \n",
    "        #print(len(results))\n",
    "        results[-1].append(2*(results[-1][0]*results[-1][1])/(results[-1][0]+results[-1][1]) if (results[-1][0]+results[-1][1]!=0) else float('NaN'))\n",
    "    #accuracys,recalls,fscores = results\n",
    "    #print('data:',results,'index:',index)\n",
    "    #return\n",
    "    results.append([numerator_exactitude/sum(sum(confusion_matrix,[]),0),'',''])\n",
    "    pd.DataFrame(data=results,columns=['accuracy','recall','fscore'],index=[*generate_header_suffix(class_to_index,''),'exactitude']).to_csv(f'Scores{suffix_filename}')\n",
    "    \n",
    "def save_confusion_matrix(confusion_matrix,columns,index,suffix_filename):\n",
    "    pd.DataFrame(data = confusion_matrix,columns=columns,index=index).to_csv(f'ConfusionMatrix{suffix_filename}')\n",
    "data_bases = [data_base_age,data_base_gender]\n",
    "classes_to_index =[{'10s':0,'20s':1,'30s':2},{'female':0,'male':1}]\n",
    "for training_rate in [.3,.6,.9]:\n",
    "    print(f'training_rate:{training_rate}')\n",
    "    #print(f'len{databases_classestoindex_classtypes}')\n",
    "    for data_base,class_to_index,class_type in zip(data_bases,classes_to_index,['Age','Gender']): \n",
    "        print('data_base,....')   \n",
    "        feature_matrix,class_list = data_base.get_feature_matrix(),data_base.get_class_list()\n",
    "        class_number = len(class_to_index)\n",
    "        for classifier_method,plotting_f in zip(  \n",
    "            [\n",
    "                MultinomialNB\n",
    "                ,lambda:DecisionTreeClassifier(max_depth=10)\n",
    "                ,lambda:RandomForestClassifier(max_depth=10)\n",
    "                ,lambda:MLPClassifier(solver='lbfgs', alpha=1e-5,hidden_layer_sizes=(5, 2), random_state=1,max_iter=500)\n",
    "                ,lambda:KNeighborsClassifier(n_neighbors=3)\n",
    "            ],\n",
    "            [\n",
    "                lambda clf: None\n",
    "                ,lambda clf:tree.plot_tree(clf)\n",
    "                ,lambda clf: None\n",
    "                ,lambda clf: None\n",
    "                ,lambda clf: None\n",
    "            ]\n",
    "        ):\n",
    "            confusion_matrix = [[0]*class_number for _ in range(class_number)]\n",
    "            clf = classifier_method()\n",
    "            print('este es el clf -->',clf)\n",
    "            training_length = floor(len(feature_matrix) * training_rate)\n",
    "\n",
    "            clf.fit(feature_matrix[0:training_length],class_list[0:training_length])\n",
    "\n",
    "            plotting_f(clf)\n",
    "            plt.show()\n",
    "            for predicted_class,real_class in zip(clf.predict(feature_matrix[training_length:]),class_list[training_length:]):\n",
    "                #print(predicted_class,real_class)\n",
    "                pI,rI = class_to_index[predicted_class],class_to_index[real_class]\n",
    "                confusion_matrix[pI][rI]+=1\n",
    "            columns=generate_header_suffix(class_to_index,'predicted')\n",
    "            index=generate_header_suffix(class_to_index,'real')\n",
    "            suffix_filename = f'_{class_type}_{str(clf).split(\"(\")[0]}_training_rate={training_rate}_test_rate={1-training_rate}.csv'\n",
    "            save_accuracys_recalls_fscores_exactitude(confusion_matrix,class_to_index,suffix_filename)\n",
    "            #exactitude = a[1]\n",
    "            #print(f'accuracy={accuracys},recall={recalls},exactitude={exactitude},fscore={fscores}')\n",
    "            #print(confusion_matrix)\n",
    "            save_confusion_matrix(confusion_matrix,columns,index,suffix_filename)\n",
    "\n",
    "\n",
    "\n",
    "# #print(normalizedLines)"
   ]
  },
  {
   "cell_type": "code",
   "execution_count": null,
   "metadata": {},
   "outputs": [],
   "source": []
  }
 ]
}